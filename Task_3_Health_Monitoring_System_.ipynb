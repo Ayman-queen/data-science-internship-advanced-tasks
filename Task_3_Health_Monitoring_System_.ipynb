{
  "nbformat": 4,
  "nbformat_minor": 0,
  "metadata": {
    "colab": {
      "provenance": [],
      "authorship_tag": "ABX9TyNpOJf921sWnf3Pq+0lO5qf",
      "include_colab_link": true
    },
    "kernelspec": {
      "name": "python3",
      "display_name": "Python 3"
    },
    "language_info": {
      "name": "python"
    }
  },
  "cells": [
    {
      "cell_type": "markdown",
      "metadata": {
        "id": "view-in-github",
        "colab_type": "text"
      },
      "source": [
        "<a href=\"https://colab.research.google.com/github/Ayman-queen/data-science-internship-advanced-tasks/blob/main/Task_3_Health_Monitoring_System_.ipynb\" target=\"_parent\"><img src=\"https://colab.research.google.com/assets/colab-badge.svg\" alt=\"Open In Colab\"/></a>"
      ]
    },
    {
      "cell_type": "code",
      "source": [
        "# ✅ Install Libraries (only once)\n",
        "!pip install shap fpdf matplotlib scikit-learn pandas --quiet\n",
        "\n",
        "# ✅ Imports\n",
        "import pandas as pd\n",
        "import numpy as np\n",
        "import matplotlib.pyplot as plt\n",
        "import shap\n",
        "from sklearn.ensemble import RandomForestClassifier\n",
        "from sklearn.model_selection import train_test_split\n",
        "from sklearn.metrics import classification_report\n",
        "from fpdf import FPDF\n",
        "import warnings\n",
        "\n",
        "warnings.filterwarnings(\"ignore\")\n",
        "\n",
        "# ✅ Create Sample Data\n",
        "data = pd.DataFrame({\n",
        "    'age': [25, 45, 35, 50],\n",
        "    'bmi': [22.5, 30.1, 27.4, 35.0],\n",
        "    'bp': [120, 140, 135, 160],\n",
        "    'cholesterol': [180, 220, 210, 250],\n",
        "    'heart_disease': [0, 1, 1, 0],\n",
        "    'obesity': [0, 1, 1, 0]\n",
        "})\n",
        "\n",
        "X = data[['age', 'bmi', 'bp', 'cholesterol']]\n",
        "y_heart = data['heart_disease']\n",
        "y_obesity = data['obesity']\n",
        "\n",
        "# ✅ Split Data\n",
        "X_train, X_test, y_train_heart, y_test_heart = train_test_split(X, y_heart, test_size=0.5, random_state=42)\n",
        "_, _, y_train_obesity, y_test_obesity = train_test_split(X, y_obesity, test_size=0.5, random_state=42)\n",
        "\n",
        "# ✅ Train Models\n",
        "heart_model = RandomForestClassifier(random_state=42)\n",
        "heart_model.fit(X_train, y_train_heart)\n",
        "\n",
        "obesity_model = RandomForestClassifier(random_state=42)\n",
        "obesity_model.fit(X_train, y_train_obesity)\n",
        "\n",
        "# ✅ Predictions\n",
        "y_pred_heart = heart_model.predict(X_test)\n",
        "y_pred_obesity = obesity_model.predict(X_test)\n",
        "\n",
        "# ✅ Reports\n",
        "heart_report = classification_report(y_test_heart, y_pred_heart)\n",
        "obesity_report = classification_report(y_test_obesity, y_pred_obesity)\n",
        "\n",
        "print(\"Heart Disease Prediction Report:\\n\", heart_report)\n",
        "print(\"Obesity Prediction Report:\\n\", obesity_report)\n",
        "\n",
        "# ✅ SHAP for Heart\n",
        "explainer_heart = shap.TreeExplainer(heart_model)\n",
        "shap_values_heart = explainer_heart.shap_values(X_test)\n",
        "heart_matrix = shap_values_heart[1] if isinstance(shap_values_heart, list) else shap_values_heart\n",
        "\n",
        "# ✅ Plot & Save Heart SHAP\n",
        "shap.summary_plot(heart_matrix, X_test, plot_type='bar')\n",
        "plt.savefig(\"/content/heart_shap_plot.png\")\n",
        "plt.close()\n",
        "print(\"✅ Heart SHAP plot saved\")\n",
        "\n",
        "# ✅ SHAP for Obesity\n",
        "explainer_obesity = shap.TreeExplainer(obesity_model)\n",
        "shap_values_obesity = explainer_obesity.shap_values(X_test)\n",
        "obesity_matrix = shap_values_obesity[1] if isinstance(shap_values_obesity, list) else shap_values_obesity\n",
        "\n",
        "# ✅ Plot & Save Obesity SHAP\n",
        "shap.summary_plot(obesity_matrix, X_test, plot_type='bar')\n",
        "plt.savefig(\"/content/obesity_shap_plot.png\")\n",
        "plt.close()\n",
        "print(\"✅ Obesity SHAP plot saved\")\n",
        "\n",
        "# ✅ Generate PDF Report\n",
        "pdf = FPDF()\n",
        "pdf.add_page()\n",
        "pdf.set_font(\"Arial\", size=12)\n",
        "\n",
        "pdf.multi_cell(0, 10, \"Heart Disease Prediction Report:\\n\\n\" + heart_report)\n",
        "pdf.multi_cell(0, 10, \"Obesity Prediction Report:\\n\\n\" + obesity_report)\n",
        "pdf.multi_cell(0, 10, \"Recommendations:\\n- Maintain healthy BMI\\n- Exercise regularly\\n- Monitor blood pressure\\n- Avoid high cholesterol\\n- Schedule regular checkups\")\n",
        "\n",
        "pdf.image(\"/content/heart_shap_plot.png\", x=10, w=180)\n",
        "pdf.ln(10)\n",
        "pdf.image(\"/content/obesity_shap_plot.png\", x=10, w=180)\n",
        "\n",
        "pdf_path = \"/content/Health_Report_Final.pdf\"\n",
        "pdf.output(pdf_path)\n",
        "\n",
        "print(\"✅ PDF generated successfully:\", pdf_path)"
      ],
      "metadata": {
        "colab": {
          "base_uri": "https://localhost:8080/",
          "height": 1000
        },
        "id": "CGcBEedbAy76",
        "outputId": "cbaa20c6-235e-413c-a294-049749193c27"
      },
      "execution_count": 8,
      "outputs": [
        {
          "output_type": "stream",
          "name": "stdout",
          "text": [
            "Heart Disease Prediction Report:\n",
            "               precision    recall  f1-score   support\n",
            "\n",
            "           0       0.00      0.00      0.00         1\n",
            "           1       0.50      1.00      0.67         1\n",
            "\n",
            "    accuracy                           0.50         2\n",
            "   macro avg       0.25      0.50      0.33         2\n",
            "weighted avg       0.25      0.50      0.33         2\n",
            "\n",
            "Obesity Prediction Report:\n",
            "               precision    recall  f1-score   support\n",
            "\n",
            "           0       0.00      0.00      0.00         1\n",
            "           1       0.50      1.00      0.67         1\n",
            "\n",
            "    accuracy                           0.50         2\n",
            "   macro avg       0.25      0.50      0.33         2\n",
            "weighted avg       0.25      0.50      0.33         2\n",
            "\n"
          ]
        },
        {
          "output_type": "display_data",
          "data": {
            "text/plain": [
              "<Figure size 1150x660 with 2 Axes>"
            ],
            "image/png": "[encoded data removed]"
          },
          "metadata": {}
        },
        {
          "output_type": "stream",
          "name": "stdout",
          "text": [
            "✅ Heart SHAP plot saved\n"
          ]
        },
        {
          "output_type": "display_data",
          "data": {
            "text/plain": [
              "<Figure size 1150x660 with 2 Axes>"
            ],
            "image/png": "[encoded data removed]"
          },
          "metadata": {}
        },
        {
          "output_type": "stream",
          "name": "stdout",
          "text": [
            "✅ Obesity SHAP plot saved\n",
            "✅ PDF generated successfully: /content/Health_Report_Final.pdf\n"
          ]
        }
      ]
    },
    {
      "cell_type": "code",
      "source": [],
      "metadata": {
        "id": "ml5cGTfcBTO6"
      },
      "execution_count": null,
      "outputs": []
    }
  ]
}