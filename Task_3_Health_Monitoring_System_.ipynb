{
  "nbformat": 4,
  "nbformat_minor": 0,
  "metadata": {
    "colab": {
      "provenance": [],
      "authorship_tag": "ABX9TyPg1S6/jvEhGS6U5C4r3Clq",
      "include_colab_link": true
    },
    "kernelspec": {
      "name": "python3",
      "display_name": "Python 3"
    },
    "language_info": {
      "name": "python"
    }
  },
  "cells": [
    {
      "cell_type": "markdown",
      "metadata": {
        "id": "view-in-github",
        "colab_type": "text"
      },
      "source": [
        "<a href=\"https://colab.research.google.com/github/Ayman-queen/data-science-internship-advanced-tasks/blob/main/Task_3_Health_Monitoring_System_.ipynb\" target=\"_parent\"><img src=\"https://colab.research.google.com/assets/colab-badge.svg\" alt=\"Open In Colab\"/></a>"
      ]
    },
    {
      "cell_type": "code",
      "source": [
        "# Install libraries\n",
        "!pip install -q fpdf scikit-learn pandas\n",
        "\n",
        "import pandas as pd\n",
        "from sklearn.ensemble import RandomForestClassifier\n",
        "from sklearn.model_selection import train_test_split\n",
        "from sklearn.metrics import classification_report\n",
        "from fpdf import FPDF\n",
        "\n",
        "# Sample health data\n",
        "data = pd.DataFrame({\n",
        "    'age': [25, 45, 50, 35, 60, 30, 55, 40],\n",
        "    'bmi': [22, 28, 30, 26, 35, 21, 33, 27],\n",
        "    'bp': [120, 140, 150, 130, 160, 118, 155, 135],\n",
        "    'cholesterol': [180, 220, 240, 200, 260, 170, 250, 210],\n",
        "    'heart_disease': [0, 1, 1, 0, 1, 0, 1, 0],\n",
        "    'obesity': [0, 1, 1, 0, 1, 0, 1, 0]\n",
        "})\n",
        "\n",
        "# Prepare data\n",
        "X = data[['age', 'bmi', 'bp', 'cholesterol']]\n",
        "y_heart = data['heart_disease']\n",
        "y_obesity = data['obesity']\n",
        "\n",
        "# Train heart disease model\n",
        "X_train, X_test, y_train, y_test = train_test_split(X, y_heart, test_size=0.25, random_state=42)\n",
        "heart_model = RandomForestClassifier(random_state=42).fit(X_train, y_train)\n",
        "y_pred_heart = heart_model.predict(X_test)\n",
        "heart_report = classification_report(y_test, y_pred_heart)\n",
        "\n",
        "# Train obesity model\n",
        "X_train_o, X_test_o, y_train_o, y_test_o = train_test_split(X, y_obesity, test_size=0.25, random_state=42)\n",
        "obesity_model = RandomForestClassifier(random_state=42).fit(X_train_o, y_train_o)\n",
        "y_pred_obesity = obesity_model.predict(X_test_o)\n",
        "obesity_report = classification_report(y_test_o, y_pred_obesity)\n",
        "\n",
        "# Create PDF\n",
        "pdf = FPDF()\n",
        "pdf.add_page()\n",
        "pdf.set_font(\"Arial\", 'B', 16)\n",
        "pdf.cell(0, 10, \"Health Monitoring Report\", ln=True, align='C')\n",
        "pdf.ln(5)\n",
        "\n",
        "pdf.set_font(\"Arial\", 'B', 12)\n",
        "pdf.cell(0, 8, \"Heart Disease Prediction Report:\", ln=True)\n",
        "pdf.set_font(\"Arial\", '', 11)\n",
        "pdf.multi_cell(0, 8, heart_report)\n",
        "\n",
        "pdf.ln(3)\n",
        "pdf.set_font(\"Arial\", 'B', 12)\n",
        "pdf.cell(0, 8, \"Obesity Prediction Report:\", ln=True)\n",
        "pdf.set_font(\"Arial\", '', 11)\n",
        "pdf.multi_cell(0, 8, obesity_report)\n",
        "\n",
        "pdf.ln(3)\n",
        "pdf.set_font(\"Arial\", 'B', 12)\n",
        "pdf.cell(0, 8, \"Recommendations:\", ln=True)\n",
        "pdf.set_font(\"Arial\", '', 11)\n",
        "recommendations = [\n",
        "    \"- Maintain a healthy BMI\",\n",
        "    \"- Exercise 3-5 times a week\",\n",
        "    \"- Monitor blood pressure and cholesterol\",\n",
        "    \"- Eat a healthy diet\",\n",
        "    \"- Schedule regular health check-ups\"\n",
        "]\n",
        "for rec in recommendations:\n",
        "    pdf.cell(0, 8, rec, ln=True)\n",
        "\n",
        "# Save PDF\n",
        "pdf_file = \"/content/Health_Report_no_unicode.pdf\"\n",
        "pdf.output(pdf_file)\n",
        "print(\"✅ PDF created:\", pdf_file)"
      ],
      "metadata": {
        "colab": {
          "base_uri": "https://localhost:8080/"
        },
        "id": "bleLF6ov0MP1",
        "outputId": "d7afd153-1aba-4c47-c4f0-2a3593a7e6ab"
      },
      "execution_count": 1,
      "outputs": [
        {
          "output_type": "stream",
          "name": "stdout",
          "text": [
            "  Preparing metadata (setup.py) ... \u001b[?25l\u001b[?25hdone\n",
            "  Building wheel for fpdf (setup.py) ... \u001b[?25l\u001b[?25hdone\n",
            "✅ PDF created: /content/Health_Report_no_unicode.pdf\n"
          ]
        },
        {
          "output_type": "stream",
          "name": "stderr",
          "text": [
            "/usr/local/lib/python3.11/dist-packages/sklearn/metrics/_classification.py:1565: UndefinedMetricWarning: Precision is ill-defined and being set to 0.0 in labels with no predicted samples. Use `zero_division` parameter to control this behavior.\n",
            "  _warn_prf(average, modifier, f\"{metric.capitalize()} is\", len(result))\n",
            "/usr/local/lib/python3.11/dist-packages/sklearn/metrics/_classification.py:1565: UndefinedMetricWarning: Precision is ill-defined and being set to 0.0 in labels with no predicted samples. Use `zero_division` parameter to control this behavior.\n",
            "  _warn_prf(average, modifier, f\"{metric.capitalize()} is\", len(result))\n",
            "/usr/local/lib/python3.11/dist-packages/sklearn/metrics/_classification.py:1565: UndefinedMetricWarning: Precision is ill-defined and being set to 0.0 in labels with no predicted samples. Use `zero_division` parameter to control this behavior.\n",
            "  _warn_prf(average, modifier, f\"{metric.capitalize()} is\", len(result))\n",
            "/usr/local/lib/python3.11/dist-packages/sklearn/metrics/_classification.py:1565: UndefinedMetricWarning: Precision is ill-defined and being set to 0.0 in labels with no predicted samples. Use `zero_division` parameter to control this behavior.\n",
            "  _warn_prf(average, modifier, f\"{metric.capitalize()} is\", len(result))\n",
            "/usr/local/lib/python3.11/dist-packages/sklearn/metrics/_classification.py:1565: UndefinedMetricWarning: Precision is ill-defined and being set to 0.0 in labels with no predicted samples. Use `zero_division` parameter to control this behavior.\n",
            "  _warn_prf(average, modifier, f\"{metric.capitalize()} is\", len(result))\n",
            "/usr/local/lib/python3.11/dist-packages/sklearn/metrics/_classification.py:1565: UndefinedMetricWarning: Precision is ill-defined and being set to 0.0 in labels with no predicted samples. Use `zero_division` parameter to control this behavior.\n",
            "  _warn_prf(average, modifier, f\"{metric.capitalize()} is\", len(result))\n"
          ]
        }
      ]
    },
    {
      "cell_type": "code",
      "source": [],
      "metadata": {
        "id": "xdyYdsO10hdL"
      },
      "execution_count": null,
      "outputs": []
    },
    {
      "cell_type": "code",
      "source": [],
      "metadata": {
        "id": "zvnVgFFp0iSx"
      },
      "execution_count": null,
      "outputs": []
    }
  ]
}