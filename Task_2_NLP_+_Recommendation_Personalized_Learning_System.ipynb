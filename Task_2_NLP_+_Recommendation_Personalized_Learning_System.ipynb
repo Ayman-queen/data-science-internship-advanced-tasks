{
  "nbformat": 4,
  "nbformat_minor": 0,
  "metadata": {
    "colab": {
      "provenance": [],
      "authorship_tag": "ABX9TyNPOs6iw5iDVOIhlrHEKLLu",
      "include_colab_link": true
    },
    "kernelspec": {
      "name": "python3",
      "display_name": "Python 3"
    },
    "language_info": {
      "name": "python"
    }
  },
  "cells": [
    {
      "cell_type": "markdown",
      "metadata": {
        "id": "view-in-github",
        "colab_type": "text"
      },
      "source": [
        "<a href=\"https://colab.research.google.com/github/Ayman-queen/data-science-internship-advanced-tasks/blob/main/Task_2_NLP_%2B_Recommendation_Personalized_Learning_System.ipynb\" target=\"_parent\"><img src=\"https://colab.research.google.com/assets/colab-badge.svg\" alt=\"Open In Colab\"/></a>"
      ]
    },
    {
      "cell_type": "code",
      "source": [
        "# ✅ Libraries\n",
        "import pandas as pd\n",
        "import numpy as np\n",
        "from sklearn.feature_extraction.text import TfidfVectorizer\n",
        "from sklearn.metrics.pairwise import cosine_similarity\n",
        "from sklearn.preprocessing import MinMaxScaler\n",
        "\n",
        "# ✅ 1. Sample Student Data (Preferences)\n",
        "students = pd.DataFrame({\n",
        "    'student_id': [1, 2, 3, 4],\n",
        "    'preferences': [\n",
        "        \"I like solving math problems and logic puzzles\",\n",
        "        \"Interested in AI, neural networks and coding\",\n",
        "        \"Enjoys data visualization and exploring patterns\",\n",
        "        \"Prefers practical work like coding and hands-on AI\"\n",
        "    ]\n",
        "})\n",
        "\n",
        "# ✅ 2. Past Scores (0–100) for key topics\n",
        "scores = pd.DataFrame({\n",
        "    'student_id': [1, 2, 3, 4],\n",
        "    'Linear Algebra': [95, 40, 50, 70],\n",
        "    'Data Visualization': [60, 75, 90, 40],\n",
        "    'Machine Learning': [30, 85, 65, 95],\n",
        "    'Python Basics': [80, 95, 60, 85],\n",
        "    'AI Basics': [20, 90, 40, 88],\n",
        "    'Statistics': [92, 45, 88, 60],\n",
        "    'Data Analysis': [77, 80, 82, 70],\n",
        "    'Deep Learning': [15, 60, 40, 85]\n",
        "})\n",
        "\n",
        "# ✅ 3. Topics list\n",
        "topics = ['Linear Algebra', 'Data Visualization', 'Machine Learning', 'Python Basics',\n",
        "          'AI Basics', 'Statistics', 'Data Analysis', 'Deep Learning']\n",
        "\n",
        "# ✅ 4. Content-based filtering with TF-IDF\n",
        "vectorizer = TfidfVectorizer()\n",
        "combined_text = pd.concat([students['preferences'], pd.Series(topics)], ignore_index=True)\n",
        "preference_matrix = vectorizer.fit_transform(combined_text)\n",
        "\n",
        "student_vecs = preference_matrix[:len(students)]\n",
        "topic_vecs = preference_matrix[len(students):]\n",
        "\n",
        "content_scores = cosine_similarity(student_vecs, topic_vecs)\n",
        "\n",
        "# ✅ 5. Collaborative filtering (based on scores)\n",
        "topic_only = scores[topics]\n",
        "scaler = MinMaxScaler()\n",
        "normalized_scores = scaler.fit_transform(topic_only)\n",
        "\n",
        "collab_scores = 1 - normalized_scores  # Recommend topics with lower scores\n",
        "\n",
        "# ✅ 6. Combine hybrid recommendation (60% content + 40% collaborative)\n",
        "hybrid_scores = 0.6 * content_scores + 0.4 * collab_scores\n",
        "\n",
        "# ✅ 7. Get top 3 recommendations per student\n",
        "recommendations = []\n",
        "for i in range(hybrid_scores.shape[0]):\n",
        "    top_indices = hybrid_scores[i].argsort()[-3:][::-1]\n",
        "    top_topics = [topics[idx] for idx in top_indices]\n",
        "    recommendations.append(top_topics)\n",
        "\n",
        "# ✅ 8. Final Recommendation Table\n",
        "result = pd.DataFrame(recommendations, columns=['Topic 1', 'Topic 2', 'Topic 3'])\n",
        "result.insert(0, \"Student ID\", students['student_id'])\n",
        "\n",
        "print(\"📚 Top 3 Personalized Learning Recommendations:\\n\")\n",
        "print(result)"
      ],
      "metadata": {
        "colab": {
          "base_uri": "https://localhost:8080/"
        },
        "id": "jG0GhyF-Fk_e",
        "outputId": "80f069c3-f30d-450d-f406-6d9676380545"
      },
      "execution_count": 20,
      "outputs": [
        {
          "output_type": "stream",
          "name": "stdout",
          "text": [
            "📚 Top 3 Personalized Learning Recommendations:\n",
            "\n",
            "   Student ID        Topic 1             Topic 2             Topic 3\n",
            "0           1  Deep Learning           AI Basics    Machine Learning\n",
            "1           2     Statistics      Linear Algebra       Deep Learning\n",
            "2           3  Python Basics      Linear Algebra  Data Visualization\n",
            "3           4  Data Analysis  Data Visualization          Statistics\n"
          ]
        }
      ]
    }
  ]
}