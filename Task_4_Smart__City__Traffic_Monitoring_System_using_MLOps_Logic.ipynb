{
  "nbformat": 4,
  "nbformat_minor": 0,
  "metadata": {
    "colab": {
      "provenance": [],
      "authorship_tag": "ABX9TyN8tVygE0IowGk54QNVx4lU",
      "include_colab_link": true
    },
    "kernelspec": {
      "name": "python3",
      "display_name": "Python 3"
    },
    "language_info": {
      "name": "python"
    }
  },
  "cells": [
    {
      "cell_type": "markdown",
      "metadata": {
        "id": "view-in-github",
        "colab_type": "text"
      },
      "source": [
        "<a href=\"https://colab.research.google.com/github/Ayman-queen/data-science-internship-advanced-tasks/blob/main/Task_4_Smart__City__Traffic_Monitoring_System_using_MLOps_Logic.ipynb\" target=\"_parent\"><img src=\"https://colab.research.google.com/assets/colab-badge.svg\" alt=\"Open In Colab\"/></a>"
      ]
    },
    {
      "cell_type": "code",
      "source": [
        "!pip install -q pandas scikit-learn streamlit\n",
        "\n",
        "import pandas as pd\n",
        "import numpy as np\n",
        "from sklearn.ensemble import RandomForestClassifier\n",
        "from sklearn.model_selection import train_test_split\n",
        "from sklearn.metrics import classification_report\n",
        "import joblib\n",
        "import os\n",
        "\n",
        "# Simulated traffic data\n",
        "traffic_data = pd.DataFrame({\n",
        "    'vehicle_count': [100, 400, 300, 150, 80, 600, 700, 50],\n",
        "    'avg_speed': [50, 20, 30, 45, 60, 15, 10, 70],\n",
        "    'weather': [1, 0, 0, 1, 1, 0, 0, 1],  # 1=Clear, 0=Rain\n",
        "    'congestion': [0, 1, 1, 0, 0, 1, 1, 0]  # 1=Congested\n",
        "})\n",
        "\n",
        "X = traffic_data.drop('congestion', axis=1)\n",
        "y = traffic_data['congestion']\n",
        "\n",
        "X_train, X_test, y_train, y_test = train_test_split(X, y, test_size=0.25, random_state=42)\n",
        "\n",
        "model = RandomForestClassifier(random_state=42)\n",
        "model.fit(X_train, y_train)\n",
        "\n",
        "y_preds = model.predict(X_test)\n",
        "print(\"🚦 Traffic Congestion Detection Report:\\n\")\n",
        "print(classification_report(y_test, y_preds))\n",
        "\n",
        "# Save model\n",
        "joblib.dump(model, \"traffic_model.pkl\")\n",
        "\n",
        "# Save logs\n",
        "log_df = X_test.copy()\n",
        "log_df['actual'] = y_test.values\n",
        "log_df['predicted'] = y_preds\n",
        "log_df.to_csv(\"traffic_logs.csv\", index=False)\n",
        "\n",
        "print(\"✅ Model saved as 'traffic_model.pkl'\")\n",
        "print(\"📊 Logs saved as 'traffic_logs.csv'\")\n",
        "\n",
        "# For Streamlit Deployment (save this in a file like app.py)\n",
        "streamlit_code = '''\n",
        "import streamlit as st\n",
        "import pandas as pd\n",
        "import joblib\n",
        "\n",
        "st.title(\"🚦 Smart City Traffic Prediction\")\n",
        "\n",
        "model = joblib.load(\"traffic_model.pkl\")\n",
        "\n",
        "vc = st.slider(\"Vehicle Count\", 0, 1000, 200)\n",
        "speed = st.slider(\"Average Speed (km/h)\", 0, 120, 40)\n",
        "weather = st.selectbox(\"Weather\", [\"Clear\", \"Rain\"])\n",
        "weather_code = 1 if weather == \"Clear\" else 0\n",
        "\n",
        "data = pd.DataFrame([[vc, speed, weather_code]], columns=['vehicle_count', 'avg_speed', 'weather'])\n",
        "\n",
        "if st.button(\"Predict Congestion\"):\n",
        "    pred = model.predict(data)[0]\n",
        "    st.success(\"Prediction: 🚗 Congested\" if pred == 1 else \"Prediction: ✅ Smooth Flow\")\n",
        "'''\n",
        "\n",
        "with open(\"streamlit_app.py\", \"w\") as f:\n",
        "    f.write(streamlit_code)\n",
        "\n",
        "print(\"🚀 Streamlit app saved as 'streamlit_app.py'\")"
      ],
      "metadata": {
        "colab": {
          "base_uri": "https://localhost:8080/"
        },
        "id": "d0wthLxNJqqd",
        "outputId": "25b948e4-fa8c-4e07-bacb-8693020068b6"
      },
      "execution_count": 27,
      "outputs": [
        {
          "output_type": "stream",
          "name": "stdout",
          "text": [
            "\u001b[2K     \u001b[90m━━━━━━━━━━━━━━━━━━━━━━━━━━━━━━━━━━━━━━━━\u001b[0m \u001b[32m44.3/44.3 kB\u001b[0m \u001b[31m2.6 MB/s\u001b[0m eta \u001b[36m0:00:00\u001b[0m\n",
            "\u001b[2K   \u001b[90m━━━━━━━━━━━━━━━━━━━━━━━━━━━━━━━━━━━━━━━━\u001b[0m \u001b[32m9.9/9.9 MB\u001b[0m \u001b[31m80.0 MB/s\u001b[0m eta \u001b[36m0:00:00\u001b[0m\n",
            "\u001b[2K   \u001b[90m━━━━━━━━━━━━━━━━━━━━━━━━━━━━━━━━━━━━━━━━\u001b[0m \u001b[32m6.9/6.9 MB\u001b[0m \u001b[31m100.6 MB/s\u001b[0m eta \u001b[36m0:00:00\u001b[0m\n",
            "\u001b[2K   \u001b[90m━━━━━━━━━━━━━━━━━━━━━━━━━━━━━━━━━━━━━━━━\u001b[0m \u001b[32m79.1/79.1 kB\u001b[0m \u001b[31m6.7 MB/s\u001b[0m eta \u001b[36m0:00:00\u001b[0m\n",
            "\u001b[?25h🚦 Traffic Congestion Detection Report:\n",
            "\n",
            "              precision    recall  f1-score   support\n",
            "\n",
            "           1       1.00      1.00      1.00         2\n",
            "\n",
            "    accuracy                           1.00         2\n",
            "   macro avg       1.00      1.00      1.00         2\n",
            "weighted avg       1.00      1.00      1.00         2\n",
            "\n",
            "✅ Model saved as 'traffic_model.pkl'\n",
            "📊 Logs saved as 'traffic_logs.csv'\n",
            "🚀 Streamlit app saved as 'streamlit_app.py'\n"
          ]
        }
      ]
    }
  ]
}