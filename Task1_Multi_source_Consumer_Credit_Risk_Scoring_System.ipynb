{
  "nbformat": 4,
  "nbformat_minor": 0,
  "metadata": {
    "colab": {
      "provenance": [],
      "authorship_tag": "ABX9TyOOz+xRtIvDMzCvrDjZ0wfs",
      "include_colab_link": true
    },
    "kernelspec": {
      "name": "python3",
      "display_name": "Python 3"
    },
    "language_info": {
      "name": "python"
    }
  },
  "cells": [
    {
      "cell_type": "markdown",
      "metadata": {
        "id": "view-in-github",
        "colab_type": "text"
      },
      "source": [
        "<a href=\"https://colab.research.google.com/github/Ayman-queen/data-science-internship-advanced-tasks/blob/main/Task1_Multi_source_Consumer_Credit_Risk_Scoring_System.ipynb\" target=\"_parent\"><img src=\"https://colab.research.google.com/assets/colab-badge.svg\" alt=\"Open In Colab\"/></a>"
      ]
    },
    {
      "cell_type": "code",
      "source": [
        "# 🧠 Task 1: Multi-source Consumer Credit Risk Scoring System\n",
        "\n",
        "# Install required libraries\n",
        "!pip install -q pandas scikit-learn matplotlib nltk shap\n",
        "\n",
        "# Imports\n",
        "import pandas as pd\n",
        "import numpy as np\n",
        "import matplotlib.pyplot as plt\n",
        "from sklearn.ensemble import RandomForestClassifier\n",
        "from sklearn.model_selection import train_test_split\n",
        "from sklearn.feature_extraction.text import TfidfVectorizer\n",
        "from sklearn.metrics import classification_report\n",
        "import shap\n",
        "import nltk\n",
        "nltk.download('punkt')\n",
        "\n",
        "\n",
        "credit_data = pd.DataFrame({\n",
        "    'user_id': [101, 102, 103, 104, 105, 106, 107, 108],\n",
        "    'credit_score': [700, 650, 500, 620, 580, 710, 560, 680],\n",
        "    'default':      [0,    1,   1,   0,   1,   0,   1,   0]\n",
        "})\n",
        "\n",
        "transactions = pd.DataFrame({\n",
        "    'user_id': [101, 102, 103, 104, 105, 106, 107, 108],\n",
        "    'monthly_txn':    [10,  20,   5,  12,   3,  15,   7,  11],\n",
        "    'avg_txn_amount': [1000, 500, 200, 700, 150, 1200, 350, 800]\n",
        "})\n",
        "\n",
        "text_notes = pd.DataFrame({\n",
        "    'user_id': [101, 102, 103, 104, 105, 106, 107, 108],\n",
        "    'note': [\n",
        "        \"Pays on time and has stable income.\",\n",
        "        \"Irregular payments and medium risk.\",\n",
        "        \"Defaulted before and unemployed.\",\n",
        "        \"Low risk, regular payments.\",\n",
        "        \"Very risky and bad credit history.\",\n",
        "        \"Excellent history and consistent salary.\",\n",
        "        \"Frequently late and financial issues.\",\n",
        "        \"Stable job, recent late payment.\"\n",
        "    ]\n",
        "})\n",
        "\n",
        "# Merge datasets and extract TF-IDF features from text\n",
        "data = credit_data.merge(transactions, on='user_id').merge(text_notes, on='user_id')\n",
        "vectorizer = TfidfVectorizer(max_features=5)\n",
        "text_features = vectorizer.fit_transform(data['note']).toarray()\n",
        "text_df = pd.DataFrame(text_features, columns=vectorizer.get_feature_names_out())\n",
        "data = pd.concat([data.drop(columns=['note']), text_df], axis=1)\n",
        "\n",
        "# Prepare model\n",
        "X = data.drop(columns=['user_id', 'default'])\n",
        "y = data['default']\n",
        "X_train, X_test, y_train, y_test = train_test_split(X, y, stratify=y, test_size=0.25, random_state=42)\n",
        "model = RandomForestClassifier()\n",
        "model.fit(X_train, y_train)\n",
        "preds = model.predict(X_test)\n",
        "print(\"📊 Classification Report:\\n\")\n",
        "print(classification_report(y_test, preds, zero_division=0))\n",
        "\n",
        "# SHAP Explanation\n",
        "explainer = shap.TreeExplainer(model)\n",
        "shap_values = explainer.shap_values(X_test)\n",
        "shap_matrix = np.array(shap_values[1])  # Class = 1\n",
        "\n",
        "# Align SHAP values with test data shape\n",
        "min_cols = min(shap_matrix.shape[1], X_test.shape[1])\n",
        "shap_matrix = shap_matrix[:, :min_cols]\n",
        "X_aligned = X_test.iloc[:, :min_cols]\n",
        "\n",
        "# Plot SHAP summary\n",
        "shap.summary_plot(shap_matrix, X_aligned, plot_type=\"bar\")\n",
        "\n",
        "# Top 3 features per sample\n",
        "shap_df = pd.DataFrame(np.abs(shap_matrix), columns=X_aligned.columns)\n",
        "top_3_lists = shap_df.apply(lambda row: row.sort_values(ascending=False).index[:3].tolist(), axis=1).tolist()\n",
        "top_3_lists = [row + [None] * (3 - len(row)) if len(row) < 3 else row for row in top_3_lists]\n",
        "top_3 = pd.DataFrame(top_3_lists, columns=['Feature 1', 'Feature 2', 'Feature 3'])\n",
        "\n",
        "print(\"📌 Top 3 Influential Features Per Customer:\\n\")\n",
        "print(top_3)"
      ],
      "metadata": {
        "colab": {
          "base_uri": "https://localhost:8080/",
          "height": 529
        },
        "id": "q9iQzdtG837D",
        "outputId": "9a0fc0a6-71c6-4bd1-c746-576129cd8d65"
      },
      "execution_count": null,
      "outputs": [
        {
          "output_type": "stream",
          "name": "stderr",
          "text": [
            "[nltk_data] Downloading package punkt to /root/nltk_data...\n",
            "[nltk_data]   Package punkt is already up-to-date!\n"
          ]
        },
        {
          "output_type": "stream",
          "name": "stdout",
          "text": [
            "📊 Classification Report:\n",
            "\n",
            "              precision    recall  f1-score   support\n",
            "\n",
            "           0       1.00      1.00      1.00         1\n",
            "           1       1.00      1.00      1.00         1\n",
            "\n",
            "    accuracy                           1.00         2\n",
            "   macro avg       1.00      1.00      1.00         2\n",
            "weighted avg       1.00      1.00      1.00         2\n",
            "\n"
          ]
        },
        {
          "output_type": "display_data",
          "data": {
            "text/plain": [
              "<Figure size 800x230 with 1 Axes>"
            ],
            "image/png": "[encoded data removed]"
          },
          "metadata": {}
        },
        {
          "output_type": "stream",
          "name": "stdout",
          "text": [
            "📌 Top 3 Influential Features Per Customer:\n",
            "\n",
            "      Feature 1     Feature 2 Feature 3\n",
            "0   monthly_txn  credit_score      None\n",
            "1   monthly_txn  credit_score      None\n",
            "2   monthly_txn  credit_score      None\n",
            "3   monthly_txn  credit_score      None\n",
            "4  credit_score   monthly_txn      None\n",
            "5  credit_score   monthly_txn      None\n",
            "6  credit_score   monthly_txn      None\n",
            "7   monthly_txn  credit_score      None\n"
          ]
        }
      ]
    }
  ]
}