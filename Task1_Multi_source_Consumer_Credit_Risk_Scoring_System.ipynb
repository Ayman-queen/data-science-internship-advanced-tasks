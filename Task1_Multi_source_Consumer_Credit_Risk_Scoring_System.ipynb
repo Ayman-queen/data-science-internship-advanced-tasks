{
  "nbformat": 4,
  "nbformat_minor": 0,
  "metadata": {
    "colab": {
      "provenance": [],
      "authorship_tag": "ABX9TyNK+gTSwDnEoGQAhJrLposL",
      "include_colab_link": true
    },
    "kernelspec": {
      "name": "python3",
      "display_name": "Python 3"
    },
    "language_info": {
      "name": "python"
    }
  },
  "cells": [
    {
      "cell_type": "markdown",
      "metadata": {
        "id": "view-in-github",
        "colab_type": "text"
      },
      "source": [
        "<a href=\"https://colab.research.google.com/github/Ayman-queen/data-science-internship-advanced-tasks/blob/main/Task1_Multi_source_Consumer_Credit_Risk_Scoring_System.ipynb\" target=\"_parent\"><img src=\"https://colab.research.google.com/assets/colab-badge.svg\" alt=\"Open In Colab\"/></a>"
      ]
    },
    {
      "cell_type": "code",
      "source": [
        "# 🧠 Task 1: Multi-source Consumer Credit Risk Scoring System\n",
        "\n",
        "# Install required libraries\n",
        "!pip install -q pandas scikit-learn matplotlib nltk shap\n",
        "\n",
        "# Import libraries\n",
        "import pandas as pd\n",
        "import numpy as np\n",
        "import matplotlib.pyplot as plt\n",
        "from sklearn.ensemble import RandomForestClassifier\n",
        "from sklearn.model_selection import train_test_split\n",
        "from sklearn.feature_extraction.text import TfidfVectorizer\n",
        "from sklearn.metrics import classification_report\n",
        "import shap\n",
        "import nltk\n",
        "\n",
        "# Download NLTK tokenizer silently (once)\n",
        "try:\n",
        "    nltk.data.find('tokenizers/punkt')\n",
        "except LookupError:\n",
        "    nltk.download('punkt', quiet=True)\n",
        "\n",
        "# Create dummy structured + unstructured data\n",
        "credit_data = pd.DataFrame({\n",
        "    'user_id': [101, 102, 103, 104, 105, 106, 107, 108],\n",
        "    'credit_score': [700, 650, 500, 620, 580, 710, 560, 680],\n",
        "    'default':      [0,    1,   1,   0,   1,   0,   1,   0]\n",
        "})\n",
        "\n",
        "transactions = pd.DataFrame({\n",
        "    'user_id': [101, 102, 103, 104, 105, 106, 107, 108],\n",
        "    'monthly_txn':    [10,  20,   5,  12,   3,  15,   7,  11],\n",
        "    'avg_txn_amount': [1000, 500, 200, 700, 150, 1200, 350, 800]\n",
        "})\n",
        "\n",
        "text_notes = pd.DataFrame({\n",
        "    'user_id': [101, 102, 103, 104, 105, 106, 107, 108],\n",
        "    'note': [\n",
        "        \"Pays on time and has stable income.\",\n",
        "        \"Irregular payments and medium risk.\",\n",
        "        \"Defaulted before and unemployed.\",\n",
        "        \"Low risk, regular payments.\",\n",
        "        \"Very risky and bad credit history.\",\n",
        "        \"Excellent history and consistent salary.\",\n",
        "        \"Frequently late and financial issues.\",\n",
        "        \"Stable job, recent late payment.\"\n",
        "    ]\n",
        "})\n",
        "\n",
        "# Merge datasets\n",
        "data = credit_data.merge(transactions, on='user_id').merge(text_notes, on='user_id')\n",
        "\n",
        "# Process text with TF-IDF\n",
        "vectorizer = TfidfVectorizer(max_features=5)\n",
        "text_features = vectorizer.fit_transform(data['note']).toarray()\n",
        "text_df = pd.DataFrame(text_features, columns=vectorizer.get_feature_names_out())\n",
        "data = pd.concat([data.drop(columns=['note']), text_df], axis=1)\n",
        "\n",
        "# Train/test split\n",
        "X = data.drop(columns=['user_id', 'default'])\n",
        "y = data['default']\n",
        "X_train, X_test, y_train, y_test = train_test_split(X, y, stratify=y, test_size=0.25, random_state=42)\n",
        "\n",
        "# Train model\n",
        "model = RandomForestClassifier(random_state=42)\n",
        "model.fit(X_train, y_train)\n",
        "\n",
        "# Predictions and classification report\n",
        "preds = model.predict(X_test)\n",
        "print(\"📊 Classification Report:\\n\")\n",
        "print(classification_report(y_test, preds, zero_division=0))\n",
        "\n",
        "# SHAP explanations\n",
        "explainer = shap.TreeExplainer(model)\n",
        "shap_values = explainer.shap_values(X_test)\n",
        "shap_matrix = np.array(shap_values[1])  # class 1 = default\n",
        "\n",
        "# Align matrix dimensions to X_test (safe for SHAP bugs)\n",
        "min_cols = min(shap_matrix.shape[1], X_test.shape[1])\n",
        "shap_matrix = shap_matrix[:, :min_cols]\n",
        "X_aligned = X_test.iloc[:, :min_cols]\n",
        "\n",
        "# Plot global feature importance\n",
        "shap.summary_plot(shap_matrix, X_aligned, plot_type=\"bar\")\n",
        "\n",
        "# Extract top 3 features per test sample\n",
        "shap_df = pd.DataFrame(np.abs(shap_matrix), columns=X_aligned.columns)\n",
        "top_3_lists = shap_df.apply(lambda row: list(row.sort_values(ascending=False).index[:3]), axis=1).tolist()\n",
        "top_3_lists = [row + [None] * (3 - len(row)) for row in top_3_lists]  # pad to ensure 3 items\n",
        "top_3_df = pd.DataFrame(top_3_lists, columns=['Feature 1', 'Feature 2', 'Feature 3'])\n",
        "\n",
        "# Show result\n",
        "print(\"\\n📌 Top 3 Influential Features Per Customer:\\n\")\n",
        "print(top_3_df)"
      ],
      "metadata": {
        "colab": {
          "base_uri": "https://localhost:8080/",
          "height": 512
        },
        "id": "Kidvc86jBTES",
        "outputId": "0dc66293-a707-4caa-864c-0dfcfc7ae3c5"
      },
      "execution_count": 15,
      "outputs": [
        {
          "output_type": "stream",
          "name": "stdout",
          "text": [
            "📊 Classification Report:\n",
            "\n",
            "              precision    recall  f1-score   support\n",
            "\n",
            "           0       1.00      1.00      1.00         1\n",
            "           1       1.00      1.00      1.00         1\n",
            "\n",
            "    accuracy                           1.00         2\n",
            "   macro avg       1.00      1.00      1.00         2\n",
            "weighted avg       1.00      1.00      1.00         2\n",
            "\n"
          ]
        },
        {
          "output_type": "display_data",
          "data": {
            "text/plain": [
              "<Figure size 800x230 with 1 Axes>"
            ],
            "image/png": "[encoded data removed]"
          },
          "metadata": {}
        },
        {
          "output_type": "stream",
          "name": "stdout",
          "text": [
            "\n",
            "📌 Top 3 Influential Features Per Customer:\n",
            "\n",
            "      Feature 1     Feature 2 Feature 3\n",
            "0   monthly_txn  credit_score      None\n",
            "1   monthly_txn  credit_score      None\n",
            "2   monthly_txn  credit_score      None\n",
            "3   monthly_txn  credit_score      None\n",
            "4  credit_score   monthly_txn      None\n",
            "5   monthly_txn  credit_score      None\n",
            "6   monthly_txn  credit_score      None\n",
            "7  credit_score   monthly_txn      None\n"
          ]
        }
      ]
    }
  ]
}